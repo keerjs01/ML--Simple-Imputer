{
 "cells": [
  {
   "cell_type": "code",
   "execution_count": 1,
   "id": "0ca78e3b",
   "metadata": {},
   "outputs": [],
   "source": [
    "import pandas as pd\n",
    "import numpy as np\n",
    "from sklearn.impute import SimpleImputer\n",
    "from sklearn.model_selection import train_test_split"
   ]
  },
  {
   "cell_type": "code",
   "execution_count": 2,
   "id": "5f9ac530",
   "metadata": {},
   "outputs": [
    {
     "data": {
      "text/html": [
       "<div>\n",
       "<style scoped>\n",
       "    .dataframe tbody tr th:only-of-type {\n",
       "        vertical-align: middle;\n",
       "    }\n",
       "\n",
       "    .dataframe tbody tr th {\n",
       "        vertical-align: top;\n",
       "    }\n",
       "\n",
       "    .dataframe thead th {\n",
       "        text-align: right;\n",
       "    }\n",
       "</style>\n",
       "<table border=\"1\" class=\"dataframe\">\n",
       "  <thead>\n",
       "    <tr style=\"text-align: right;\">\n",
       "      <th></th>\n",
       "      <th>id</th>\n",
       "      <th>user_name</th>\n",
       "      <th>user_location</th>\n",
       "      <th>user_description</th>\n",
       "      <th>user_created</th>\n",
       "      <th>user_followers</th>\n",
       "      <th>user_friends</th>\n",
       "      <th>user_favourites</th>\n",
       "      <th>user_verified</th>\n",
       "      <th>date</th>\n",
       "      <th>text</th>\n",
       "      <th>hashtags</th>\n",
       "      <th>source</th>\n",
       "      <th>retweets</th>\n",
       "      <th>favorites</th>\n",
       "      <th>is_retweet</th>\n",
       "    </tr>\n",
       "  </thead>\n",
       "  <tbody>\n",
       "    <tr>\n",
       "      <th>0</th>\n",
       "      <td>1465693385088323591</td>\n",
       "      <td>Abaris</td>\n",
       "      <td>Hants</td>\n",
       "      <td>Would appear on Blogger (did originally),  but...</td>\n",
       "      <td>2009-09-16 14:30:32</td>\n",
       "      <td>2880</td>\n",
       "      <td>4369</td>\n",
       "      <td>26907</td>\n",
       "      <td>False</td>\n",
       "      <td>2021-11-30 14:45:08</td>\n",
       "      <td>@SkyNews \"Told you I'd be Back!\" #OMICRON “Odi...</td>\n",
       "      <td>['OMICRON']</td>\n",
       "      <td>Twitter Web App</td>\n",
       "      <td>0</td>\n",
       "      <td>0</td>\n",
       "      <td>False</td>\n",
       "    </tr>\n",
       "    <tr>\n",
       "      <th>1</th>\n",
       "      <td>1465693062999412746</td>\n",
       "      <td>GFTs </td>\n",
       "      <td>Lalaland</td>\n",
       "      <td>There's a field somewhere beyond all doubt and...</td>\n",
       "      <td>2019-12-28 14:29:13</td>\n",
       "      <td>165</td>\n",
       "      <td>583</td>\n",
       "      <td>21152</td>\n",
       "      <td>False</td>\n",
       "      <td>2021-11-30 14:43:52</td>\n",
       "      <td>Someone told me this in October #Omicron https...</td>\n",
       "      <td>['Omicron']</td>\n",
       "      <td>Twitter for Android</td>\n",
       "      <td>0</td>\n",
       "      <td>0</td>\n",
       "      <td>False</td>\n",
       "    </tr>\n",
       "    <tr>\n",
       "      <th>2</th>\n",
       "      <td>1465690116442279942</td>\n",
       "      <td>Herbie Finkle (Cozy)</td>\n",
       "      <td>NaN</td>\n",
       "      <td>help me find me frens ❤️</td>\n",
       "      <td>2021-07-10 09:40:57</td>\n",
       "      <td>114</td>\n",
       "      <td>393</td>\n",
       "      <td>2339</td>\n",
       "      <td>False</td>\n",
       "      <td>2021-11-30 14:32:09</td>\n",
       "      <td>Glad to see the public schoolkids are wrapping...</td>\n",
       "      <td>['COVID']</td>\n",
       "      <td>Twitter Web App</td>\n",
       "      <td>0</td>\n",
       "      <td>1</td>\n",
       "      <td>False</td>\n",
       "    </tr>\n",
       "    <tr>\n",
       "      <th>3</th>\n",
       "      <td>1465689607165591552</td>\n",
       "      <td>Electrical Review</td>\n",
       "      <td>United Kingdom</td>\n",
       "      <td>Electrical Review is a monthly journal aimed a...</td>\n",
       "      <td>2009-05-21 08:32:19</td>\n",
       "      <td>20759</td>\n",
       "      <td>2321</td>\n",
       "      <td>739</td>\n",
       "      <td>False</td>\n",
       "      <td>2021-11-30 14:30:08</td>\n",
       "      <td>#Automation systems have become increasingly c...</td>\n",
       "      <td>['Automation']</td>\n",
       "      <td>Hootsuite Inc.</td>\n",
       "      <td>0</td>\n",
       "      <td>0</td>\n",
       "      <td>False</td>\n",
       "    </tr>\n",
       "    <tr>\n",
       "      <th>4</th>\n",
       "      <td>1465688203709464578</td>\n",
       "      <td>BingX Academy 🔑</td>\n",
       "      <td>NaN</td>\n",
       "      <td>BingX (Prev. Bingbon) is the world's top crypt...</td>\n",
       "      <td>2013-12-31 02:57:32</td>\n",
       "      <td>17134</td>\n",
       "      <td>8</td>\n",
       "      <td>31</td>\n",
       "      <td>False</td>\n",
       "      <td>2021-11-30 14:24:33</td>\n",
       "      <td>🟢 If u think Omicron is a FUD, you LONG📈\\n🔴 If...</td>\n",
       "      <td>NaN</td>\n",
       "      <td>Twitter Web App</td>\n",
       "      <td>2</td>\n",
       "      <td>2</td>\n",
       "      <td>False</td>\n",
       "    </tr>\n",
       "  </tbody>\n",
       "</table>\n",
       "</div>"
      ],
      "text/plain": [
       "                    id             user_name   user_location  \\\n",
       "0  1465693385088323591                Abaris           Hants   \n",
       "1  1465693062999412746                GFTs         Lalaland   \n",
       "2  1465690116442279942  Herbie Finkle (Cozy)             NaN   \n",
       "3  1465689607165591552     Electrical Review  United Kingdom   \n",
       "4  1465688203709464578       BingX Academy 🔑             NaN   \n",
       "\n",
       "                                    user_description         user_created  \\\n",
       "0  Would appear on Blogger (did originally),  but...  2009-09-16 14:30:32   \n",
       "1  There's a field somewhere beyond all doubt and...  2019-12-28 14:29:13   \n",
       "2                           help me find me frens ❤️  2021-07-10 09:40:57   \n",
       "3  Electrical Review is a monthly journal aimed a...  2009-05-21 08:32:19   \n",
       "4  BingX (Prev. Bingbon) is the world's top crypt...  2013-12-31 02:57:32   \n",
       "\n",
       "   user_followers  user_friends  user_favourites  user_verified  \\\n",
       "0            2880          4369            26907          False   \n",
       "1             165           583            21152          False   \n",
       "2             114           393             2339          False   \n",
       "3           20759          2321              739          False   \n",
       "4           17134             8               31          False   \n",
       "\n",
       "                  date                                               text  \\\n",
       "0  2021-11-30 14:45:08  @SkyNews \"Told you I'd be Back!\" #OMICRON “Odi...   \n",
       "1  2021-11-30 14:43:52  Someone told me this in October #Omicron https...   \n",
       "2  2021-11-30 14:32:09  Glad to see the public schoolkids are wrapping...   \n",
       "3  2021-11-30 14:30:08  #Automation systems have become increasingly c...   \n",
       "4  2021-11-30 14:24:33  🟢 If u think Omicron is a FUD, you LONG📈\\n🔴 If...   \n",
       "\n",
       "         hashtags               source  retweets  favorites  is_retweet  \n",
       "0     ['OMICRON']      Twitter Web App         0          0       False  \n",
       "1     ['Omicron']  Twitter for Android         0          0       False  \n",
       "2       ['COVID']      Twitter Web App         0          1       False  \n",
       "3  ['Automation']       Hootsuite Inc.         0          0       False  \n",
       "4             NaN      Twitter Web App         2          2       False  "
      ]
     },
     "execution_count": 2,
     "metadata": {},
     "output_type": "execute_result"
    }
   ],
   "source": [
    "omicron_data = pd.read_csv('C:\\\\Users\\\\Athiban\\\\Desktop\\\\Kee\\\\omicron.csv' , na_values=' ?')\n",
    "omicron_data.head(5)"
   ]
  },
  {
   "cell_type": "code",
   "execution_count": 3,
   "id": "c9c0290d",
   "metadata": {},
   "outputs": [
    {
     "data": {
      "text/plain": [
       "id                     0\n",
       "user_name              0\n",
       "user_location       6452\n",
       "user_description    1754\n",
       "user_created           0\n",
       "user_followers         0\n",
       "user_friends           0\n",
       "user_favourites        0\n",
       "user_verified          0\n",
       "date                   0\n",
       "text                   0\n",
       "hashtags            6787\n",
       "source                 0\n",
       "retweets               0\n",
       "favorites              0\n",
       "is_retweet             0\n",
       "dtype: int64"
      ]
     },
     "execution_count": 3,
     "metadata": {},
     "output_type": "execute_result"
    }
   ],
   "source": [
    "omicron_data.isna().sum()"
   ]
  },
  {
   "cell_type": "code",
   "execution_count": 6,
   "id": "9ce63e5e",
   "metadata": {},
   "outputs": [
    {
     "data": {
      "text/plain": [
       "id                    20\n",
       "user_name              0\n",
       "user_location       6452\n",
       "user_description    1754\n",
       "user_created           0\n",
       "user_followers         0\n",
       "user_friends           0\n",
       "user_favourites        0\n",
       "user_verified          0\n",
       "date                   0\n",
       "text                   0\n",
       "hashtags            6787\n",
       "source                 0\n",
       "retweets               0\n",
       "favorites              0\n",
       "is_retweet             0\n",
       "dtype: int64"
      ]
     },
     "execution_count": 6,
     "metadata": {},
     "output_type": "execute_result"
    }
   ],
   "source": [
    "# now , these 3 coulmns are catorigal column, hence i am going to impute some missing values for numerical column, here i am going to take id column\n",
    "\n",
    "np.random.seed(seed=0)\n",
    "i = np.random.choice(a=omicron_data.index,replace = False, size = 20)\n",
    "omicron_data.loc[i,'id'] = np.nan\n",
    "omicron_data.isna().sum()"
   ]
  },
  {
   "cell_type": "code",
   "execution_count": 8,
   "id": "84023ac3",
   "metadata": {},
   "outputs": [],
   "source": [
    "x_train,x_test,y_train,y_test = train_test_split(omicron_data.drop('is_retweet', axis =1),\n",
    "                                                 omicron_data['is_retweet'],\n",
    "                                                 test_size=0.2,\n",
    "                                                 random_state=30)"
   ]
  },
  {
   "cell_type": "code",
   "execution_count": 9,
   "id": "38ae80cd",
   "metadata": {},
   "outputs": [],
   "source": [
    "si_id = SimpleImputer(strategy='mean', add_indicator=True)"
   ]
  },
  {
   "cell_type": "code",
   "execution_count": 11,
   "id": "c1e6a27f",
   "metadata": {},
   "outputs": [
    {
     "data": {
      "text/plain": [
       "array([[1.46703026e+18, 0.00000000e+00],\n",
       "       [1.46741780e+18, 0.00000000e+00],\n",
       "       [1.46694155e+18, 0.00000000e+00],\n",
       "       ...,\n",
       "       [1.46747082e+18, 0.00000000e+00],\n",
       "       [1.46596534e+18, 0.00000000e+00],\n",
       "       [1.46592857e+18, 0.00000000e+00]])"
      ]
     },
     "execution_count": 11,
     "metadata": {},
     "output_type": "execute_result"
    }
   ],
   "source": [
    "si_id.fit_transform(x_train[['id']])"
   ]
  },
  {
   "cell_type": "code",
   "execution_count": 18,
   "id": "5640a2cc",
   "metadata": {},
   "outputs": [],
   "source": [
    "a = pd.DataFrame(si_id.fit_transform(x_train[['id']]))"
   ]
  },
  {
   "cell_type": "code",
   "execution_count": 13,
   "id": "62d07bef",
   "metadata": {},
   "outputs": [
    {
     "data": {
      "text/plain": [
       "array([1.46721533e+18])"
      ]
     },
     "execution_count": 13,
     "metadata": {},
     "output_type": "execute_result"
    }
   ],
   "source": [
    "si_id.statistics_"
   ]
  },
  {
   "cell_type": "code",
   "execution_count": 20,
   "id": "21383420",
   "metadata": {},
   "outputs": [
    {
     "data": {
      "text/plain": [
       "0        False\n",
       "1        False\n",
       "2        False\n",
       "3        False\n",
       "4        False\n",
       "         ...  \n",
       "21729    False\n",
       "21730    False\n",
       "21731    False\n",
       "21732    False\n",
       "21733    False\n",
       "Name: 1, Length: 21734, dtype: bool"
      ]
     },
     "execution_count": 20,
     "metadata": {},
     "output_type": "execute_result"
    }
   ],
   "source": [
    "a[1]==1"
   ]
  },
  {
   "cell_type": "code",
   "execution_count": 21,
   "id": "057c87a5",
   "metadata": {},
   "outputs": [
    {
     "data": {
      "text/html": [
       "<div>\n",
       "<style scoped>\n",
       "    .dataframe tbody tr th:only-of-type {\n",
       "        vertical-align: middle;\n",
       "    }\n",
       "\n",
       "    .dataframe tbody tr th {\n",
       "        vertical-align: top;\n",
       "    }\n",
       "\n",
       "    .dataframe thead th {\n",
       "        text-align: right;\n",
       "    }\n",
       "</style>\n",
       "<table border=\"1\" class=\"dataframe\">\n",
       "  <thead>\n",
       "    <tr style=\"text-align: right;\">\n",
       "      <th></th>\n",
       "      <th>0</th>\n",
       "      <th>1</th>\n",
       "    </tr>\n",
       "  </thead>\n",
       "  <tbody>\n",
       "    <tr>\n",
       "      <th>477</th>\n",
       "      <td>1.467215e+18</td>\n",
       "      <td>1.0</td>\n",
       "    </tr>\n",
       "    <tr>\n",
       "      <th>3431</th>\n",
       "      <td>1.467215e+18</td>\n",
       "      <td>1.0</td>\n",
       "    </tr>\n",
       "    <tr>\n",
       "      <th>4674</th>\n",
       "      <td>1.467215e+18</td>\n",
       "      <td>1.0</td>\n",
       "    </tr>\n",
       "    <tr>\n",
       "      <th>4840</th>\n",
       "      <td>1.467215e+18</td>\n",
       "      <td>1.0</td>\n",
       "    </tr>\n",
       "    <tr>\n",
       "      <th>7240</th>\n",
       "      <td>1.467215e+18</td>\n",
       "      <td>1.0</td>\n",
       "    </tr>\n",
       "    <tr>\n",
       "      <th>9873</th>\n",
       "      <td>1.467215e+18</td>\n",
       "      <td>1.0</td>\n",
       "    </tr>\n",
       "    <tr>\n",
       "      <th>11645</th>\n",
       "      <td>1.467215e+18</td>\n",
       "      <td>1.0</td>\n",
       "    </tr>\n",
       "    <tr>\n",
       "      <th>14111</th>\n",
       "      <td>1.467215e+18</td>\n",
       "      <td>1.0</td>\n",
       "    </tr>\n",
       "    <tr>\n",
       "      <th>14193</th>\n",
       "      <td>1.467215e+18</td>\n",
       "      <td>1.0</td>\n",
       "    </tr>\n",
       "    <tr>\n",
       "      <th>14312</th>\n",
       "      <td>1.467215e+18</td>\n",
       "      <td>1.0</td>\n",
       "    </tr>\n",
       "    <tr>\n",
       "      <th>14761</th>\n",
       "      <td>1.467215e+18</td>\n",
       "      <td>1.0</td>\n",
       "    </tr>\n",
       "    <tr>\n",
       "      <th>18952</th>\n",
       "      <td>1.467215e+18</td>\n",
       "      <td>1.0</td>\n",
       "    </tr>\n",
       "    <tr>\n",
       "      <th>20128</th>\n",
       "      <td>1.467215e+18</td>\n",
       "      <td>1.0</td>\n",
       "    </tr>\n",
       "    <tr>\n",
       "      <th>20148</th>\n",
       "      <td>1.467215e+18</td>\n",
       "      <td>1.0</td>\n",
       "    </tr>\n",
       "  </tbody>\n",
       "</table>\n",
       "</div>"
      ],
      "text/plain": [
       "                  0    1\n",
       "477    1.467215e+18  1.0\n",
       "3431   1.467215e+18  1.0\n",
       "4674   1.467215e+18  1.0\n",
       "4840   1.467215e+18  1.0\n",
       "7240   1.467215e+18  1.0\n",
       "9873   1.467215e+18  1.0\n",
       "11645  1.467215e+18  1.0\n",
       "14111  1.467215e+18  1.0\n",
       "14193  1.467215e+18  1.0\n",
       "14312  1.467215e+18  1.0\n",
       "14761  1.467215e+18  1.0\n",
       "18952  1.467215e+18  1.0\n",
       "20128  1.467215e+18  1.0\n",
       "20148  1.467215e+18  1.0"
      ]
     },
     "execution_count": 21,
     "metadata": {},
     "output_type": "execute_result"
    }
   ],
   "source": [
    "a[a[1]==1]"
   ]
  },
  {
   "cell_type": "code",
   "execution_count": null,
   "id": "e613e544",
   "metadata": {},
   "outputs": [],
   "source": [
    "# if you have missing values in a catogorical column \n",
    "#numerical clm --> strategy --> mean/mode/std/median (no outlier - mean , outlier - median)\n",
    "#string / catogrocal clm --> strategy --> constant / most_frequent"
   ]
  },
  {
   "cell_type": "code",
   "execution_count": 22,
   "id": "027ecc23",
   "metadata": {},
   "outputs": [
    {
     "data": {
      "text/plain": [
       "id                    20\n",
       "user_name              0\n",
       "user_location       6452\n",
       "user_description    1754\n",
       "user_created           0\n",
       "user_followers         0\n",
       "user_friends           0\n",
       "user_favourites        0\n",
       "user_verified          0\n",
       "date                   0\n",
       "text                   0\n",
       "hashtags            6787\n",
       "source                 0\n",
       "retweets               0\n",
       "favorites              0\n",
       "is_retweet             0\n",
       "dtype: int64"
      ]
     },
     "execution_count": 22,
     "metadata": {},
     "output_type": "execute_result"
    }
   ],
   "source": [
    "omicron_data.isna().sum()"
   ]
  },
  {
   "cell_type": "code",
   "execution_count": 25,
   "id": "014a4c5a",
   "metadata": {},
   "outputs": [],
   "source": [
    "si_location = SimpleImputer(strategy='constant',add_indicator=True,fill_value = 'Not avialble')"
   ]
  },
  {
   "cell_type": "code",
   "execution_count": 27,
   "id": "bbfd4774",
   "metadata": {},
   "outputs": [
    {
     "data": {
      "text/plain": [
       "array([['Not avialble', True],\n",
       "       ['Antarctica', False],\n",
       "       ['Louisville, KY', False],\n",
       "       ...,\n",
       "       ['Ardlethan', False],\n",
       "       ['Not avialble', True],\n",
       "       ['Not avialble', True]], dtype=object)"
      ]
     },
     "execution_count": 27,
     "metadata": {},
     "output_type": "execute_result"
    }
   ],
   "source": [
    "si_location.fit_transform(x_train[['user_location']])"
   ]
  },
  {
   "cell_type": "code",
   "execution_count": 29,
   "id": "db86f8e1",
   "metadata": {},
   "outputs": [
    {
     "data": {
      "text/html": [
       "<div>\n",
       "<style scoped>\n",
       "    .dataframe tbody tr th:only-of-type {\n",
       "        vertical-align: middle;\n",
       "    }\n",
       "\n",
       "    .dataframe tbody tr th {\n",
       "        vertical-align: top;\n",
       "    }\n",
       "\n",
       "    .dataframe thead th {\n",
       "        text-align: right;\n",
       "    }\n",
       "</style>\n",
       "<table border=\"1\" class=\"dataframe\">\n",
       "  <thead>\n",
       "    <tr style=\"text-align: right;\">\n",
       "      <th></th>\n",
       "      <th>0</th>\n",
       "      <th>1</th>\n",
       "    </tr>\n",
       "  </thead>\n",
       "  <tbody>\n",
       "    <tr>\n",
       "      <th>0</th>\n",
       "      <td>Not avialble</td>\n",
       "      <td>True</td>\n",
       "    </tr>\n",
       "    <tr>\n",
       "      <th>1</th>\n",
       "      <td>Antarctica</td>\n",
       "      <td>False</td>\n",
       "    </tr>\n",
       "    <tr>\n",
       "      <th>2</th>\n",
       "      <td>Louisville, KY</td>\n",
       "      <td>False</td>\n",
       "    </tr>\n",
       "    <tr>\n",
       "      <th>3</th>\n",
       "      <td>India</td>\n",
       "      <td>False</td>\n",
       "    </tr>\n",
       "    <tr>\n",
       "      <th>4</th>\n",
       "      <td>Ala Biafra🔯</td>\n",
       "      <td>False</td>\n",
       "    </tr>\n",
       "    <tr>\n",
       "      <th>...</th>\n",
       "      <td>...</td>\n",
       "      <td>...</td>\n",
       "    </tr>\n",
       "    <tr>\n",
       "      <th>21729</th>\n",
       "      <td>Louth Lincolnshire</td>\n",
       "      <td>False</td>\n",
       "    </tr>\n",
       "    <tr>\n",
       "      <th>21730</th>\n",
       "      <td>Los Angeles, CA</td>\n",
       "      <td>False</td>\n",
       "    </tr>\n",
       "    <tr>\n",
       "      <th>21731</th>\n",
       "      <td>Ardlethan</td>\n",
       "      <td>False</td>\n",
       "    </tr>\n",
       "    <tr>\n",
       "      <th>21732</th>\n",
       "      <td>Not avialble</td>\n",
       "      <td>True</td>\n",
       "    </tr>\n",
       "    <tr>\n",
       "      <th>21733</th>\n",
       "      <td>Not avialble</td>\n",
       "      <td>True</td>\n",
       "    </tr>\n",
       "  </tbody>\n",
       "</table>\n",
       "<p>21734 rows × 2 columns</p>\n",
       "</div>"
      ],
      "text/plain": [
       "                        0      1\n",
       "0            Not avialble   True\n",
       "1              Antarctica  False\n",
       "2          Louisville, KY  False\n",
       "3                   India  False\n",
       "4             Ala Biafra🔯  False\n",
       "...                   ...    ...\n",
       "21729  Louth Lincolnshire  False\n",
       "21730     Los Angeles, CA  False\n",
       "21731           Ardlethan  False\n",
       "21732        Not avialble   True\n",
       "21733        Not avialble   True\n",
       "\n",
       "[21734 rows x 2 columns]"
      ]
     },
     "execution_count": 29,
     "metadata": {},
     "output_type": "execute_result"
    }
   ],
   "source": [
    "b = pd.DataFrame(si_location.fit_transform(x_train[['user_location']]))\n",
    "b"
   ]
  },
  {
   "cell_type": "code",
   "execution_count": 32,
   "id": "4322cc86",
   "metadata": {},
   "outputs": [
    {
     "data": {
      "text/plain": [
       "array([[1.46940399e+18, 0.00000000e+00],\n",
       "       [1.46597419e+18, 0.00000000e+00],\n",
       "       [1.46564975e+18, 0.00000000e+00],\n",
       "       ...,\n",
       "       [1.46746605e+18, 0.00000000e+00],\n",
       "       [1.46595041e+18, 0.00000000e+00],\n",
       "       [1.46833725e+18, 0.00000000e+00]])"
      ]
     },
     "execution_count": 32,
     "metadata": {},
     "output_type": "execute_result"
    }
   ],
   "source": [
    "#want to do for x_test also, you need to use transform\n",
    "\n",
    "si_id.transform(x_test[['id']])\n"
   ]
  },
  {
   "cell_type": "code",
   "execution_count": 34,
   "id": "5526f1b2",
   "metadata": {},
   "outputs": [
    {
     "data": {
      "text/html": [
       "<div>\n",
       "<style scoped>\n",
       "    .dataframe tbody tr th:only-of-type {\n",
       "        vertical-align: middle;\n",
       "    }\n",
       "\n",
       "    .dataframe tbody tr th {\n",
       "        vertical-align: top;\n",
       "    }\n",
       "\n",
       "    .dataframe thead th {\n",
       "        text-align: right;\n",
       "    }\n",
       "</style>\n",
       "<table border=\"1\" class=\"dataframe\">\n",
       "  <thead>\n",
       "    <tr style=\"text-align: right;\">\n",
       "      <th></th>\n",
       "      <th>0</th>\n",
       "      <th>1</th>\n",
       "    </tr>\n",
       "  </thead>\n",
       "  <tbody>\n",
       "    <tr>\n",
       "      <th>0</th>\n",
       "      <td>1.469404e+18</td>\n",
       "      <td>0.0</td>\n",
       "    </tr>\n",
       "    <tr>\n",
       "      <th>1</th>\n",
       "      <td>1.465974e+18</td>\n",
       "      <td>0.0</td>\n",
       "    </tr>\n",
       "    <tr>\n",
       "      <th>2</th>\n",
       "      <td>1.465650e+18</td>\n",
       "      <td>0.0</td>\n",
       "    </tr>\n",
       "    <tr>\n",
       "      <th>3</th>\n",
       "      <td>1.467329e+18</td>\n",
       "      <td>0.0</td>\n",
       "    </tr>\n",
       "    <tr>\n",
       "      <th>4</th>\n",
       "      <td>1.468444e+18</td>\n",
       "      <td>0.0</td>\n",
       "    </tr>\n",
       "    <tr>\n",
       "      <th>...</th>\n",
       "      <td>...</td>\n",
       "      <td>...</td>\n",
       "    </tr>\n",
       "    <tr>\n",
       "      <th>5429</th>\n",
       "      <td>1.465687e+18</td>\n",
       "      <td>0.0</td>\n",
       "    </tr>\n",
       "    <tr>\n",
       "      <th>5430</th>\n",
       "      <td>1.469523e+18</td>\n",
       "      <td>0.0</td>\n",
       "    </tr>\n",
       "    <tr>\n",
       "      <th>5431</th>\n",
       "      <td>1.467466e+18</td>\n",
       "      <td>0.0</td>\n",
       "    </tr>\n",
       "    <tr>\n",
       "      <th>5432</th>\n",
       "      <td>1.465950e+18</td>\n",
       "      <td>0.0</td>\n",
       "    </tr>\n",
       "    <tr>\n",
       "      <th>5433</th>\n",
       "      <td>1.468337e+18</td>\n",
       "      <td>0.0</td>\n",
       "    </tr>\n",
       "  </tbody>\n",
       "</table>\n",
       "<p>5434 rows × 2 columns</p>\n",
       "</div>"
      ],
      "text/plain": [
       "                 0    1\n",
       "0     1.469404e+18  0.0\n",
       "1     1.465974e+18  0.0\n",
       "2     1.465650e+18  0.0\n",
       "3     1.467329e+18  0.0\n",
       "4     1.468444e+18  0.0\n",
       "...            ...  ...\n",
       "5429  1.465687e+18  0.0\n",
       "5430  1.469523e+18  0.0\n",
       "5431  1.467466e+18  0.0\n",
       "5432  1.465950e+18  0.0\n",
       "5433  1.468337e+18  0.0\n",
       "\n",
       "[5434 rows x 2 columns]"
      ]
     },
     "execution_count": 34,
     "metadata": {},
     "output_type": "execute_result"
    }
   ],
   "source": [
    "b= pd.DataFrame(si_id.transform(x_test[['id']]))\n",
    "b"
   ]
  },
  {
   "cell_type": "code",
   "execution_count": 35,
   "id": "55fd94dd",
   "metadata": {},
   "outputs": [
    {
     "data": {
      "text/plain": [
       "0       False\n",
       "1       False\n",
       "2       False\n",
       "3       False\n",
       "4       False\n",
       "        ...  \n",
       "5429    False\n",
       "5430    False\n",
       "5431    False\n",
       "5432    False\n",
       "5433    False\n",
       "Name: 1, Length: 5434, dtype: bool"
      ]
     },
     "execution_count": 35,
     "metadata": {},
     "output_type": "execute_result"
    }
   ],
   "source": [
    "b[1]==1"
   ]
  },
  {
   "cell_type": "code",
   "execution_count": 36,
   "id": "bb5665a3",
   "metadata": {},
   "outputs": [
    {
     "data": {
      "text/html": [
       "<div>\n",
       "<style scoped>\n",
       "    .dataframe tbody tr th:only-of-type {\n",
       "        vertical-align: middle;\n",
       "    }\n",
       "\n",
       "    .dataframe tbody tr th {\n",
       "        vertical-align: top;\n",
       "    }\n",
       "\n",
       "    .dataframe thead th {\n",
       "        text-align: right;\n",
       "    }\n",
       "</style>\n",
       "<table border=\"1\" class=\"dataframe\">\n",
       "  <thead>\n",
       "    <tr style=\"text-align: right;\">\n",
       "      <th></th>\n",
       "      <th>0</th>\n",
       "      <th>1</th>\n",
       "    </tr>\n",
       "  </thead>\n",
       "  <tbody>\n",
       "    <tr>\n",
       "      <th>1261</th>\n",
       "      <td>1.467215e+18</td>\n",
       "      <td>1.0</td>\n",
       "    </tr>\n",
       "    <tr>\n",
       "      <th>2197</th>\n",
       "      <td>1.467215e+18</td>\n",
       "      <td>1.0</td>\n",
       "    </tr>\n",
       "    <tr>\n",
       "      <th>2867</th>\n",
       "      <td>1.467215e+18</td>\n",
       "      <td>1.0</td>\n",
       "    </tr>\n",
       "    <tr>\n",
       "      <th>3410</th>\n",
       "      <td>1.467215e+18</td>\n",
       "      <td>1.0</td>\n",
       "    </tr>\n",
       "    <tr>\n",
       "      <th>3525</th>\n",
       "      <td>1.467215e+18</td>\n",
       "      <td>1.0</td>\n",
       "    </tr>\n",
       "    <tr>\n",
       "      <th>5313</th>\n",
       "      <td>1.467215e+18</td>\n",
       "      <td>1.0</td>\n",
       "    </tr>\n",
       "  </tbody>\n",
       "</table>\n",
       "</div>"
      ],
      "text/plain": [
       "                 0    1\n",
       "1261  1.467215e+18  1.0\n",
       "2197  1.467215e+18  1.0\n",
       "2867  1.467215e+18  1.0\n",
       "3410  1.467215e+18  1.0\n",
       "3525  1.467215e+18  1.0\n",
       "5313  1.467215e+18  1.0"
      ]
     },
     "execution_count": 36,
     "metadata": {},
     "output_type": "execute_result"
    }
   ],
   "source": [
    "b[b[1]==1]"
   ]
  },
  {
   "cell_type": "code",
   "execution_count": null,
   "id": "b759cb6e",
   "metadata": {},
   "outputs": [],
   "source": []
  }
 ],
 "metadata": {
  "kernelspec": {
   "display_name": "Python 3 (ipykernel)",
   "language": "python",
   "name": "python3"
  },
  "language_info": {
   "codemirror_mode": {
    "name": "ipython",
    "version": 3
   },
   "file_extension": ".py",
   "mimetype": "text/x-python",
   "name": "python",
   "nbconvert_exporter": "python",
   "pygments_lexer": "ipython3",
   "version": "3.9.5"
  }
 },
 "nbformat": 4,
 "nbformat_minor": 5
}
